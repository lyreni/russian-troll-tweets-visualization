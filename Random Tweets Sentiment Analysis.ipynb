{
 "cells": [
  {
   "cell_type": "code",
   "execution_count": 1,
   "metadata": {},
   "outputs": [],
   "source": [
    "import pandas as pd\n",
    "from tqdm import tqdm\n",
    "\n",
    "df = pd.read_csv('sentiment140/training.1600000.processed.noemoticon.csv',index_col=None, header=None, encoding='latin-1')"
   ]
  },
  {
   "cell_type": "code",
   "execution_count": 2,
   "metadata": {},
   "outputs": [],
   "source": [
    "g = df.groupby(by = df[4]).groups"
   ]
  },
  {
   "cell_type": "code",
   "execution_count": 3,
   "metadata": {},
   "outputs": [
    {
     "name": "stderr",
     "output_type": "stream",
     "text": [
      "100%|████████████████████████████████████████████████████████████████████████| 659775/659775 [04:07<00:00, 2660.81it/s]\n"
     ]
    }
   ],
   "source": [
    "tweets = {}\n",
    "for user in tqdm(g):\n",
    "    tweets[user] = df.iloc[g[user]][5].values"
   ]
  },
  {
   "cell_type": "code",
   "execution_count": 7,
   "metadata": {},
   "outputs": [],
   "source": [
    "def clean(doc):\n",
    "    # input: string\n",
    "    # output: string\n",
    "    from nltk.stem.wordnet import WordNetLemmatizer\n",
    "    from nltk.corpus import stopwords \n",
    "    import string\n",
    "    lemma = WordNetLemmatizer()\n",
    "    stop = set(stopwords.words('english'))\n",
    "    exclude = set(string.punctuation) \n",
    "    stop_free = \" \".join([i for i in doc.lower().split() if i not in stop])\n",
    "    punc_free = ''.join(ch for ch in stop_free if ch not in exclude or ch == \"!\")\n",
    "    normalized = \" \".join(lemma.lemmatize(word) for word in punc_free.split()).split()\n",
    "    link_free = [word for word in normalized if 'http' not in word]\n",
    "    cleaned = \" \".join(word for word in link_free)\n",
    "    \n",
    "    return cleaned"
   ]
  },
  {
   "cell_type": "code",
   "execution_count": 5,
   "metadata": {},
   "outputs": [
    {
     "name": "stderr",
     "output_type": "stream",
     "text": [
      "C:\\ProgramData\\Anaconda3\\lib\\site-packages\\nltk\\twitter\\__init__.py:20: UserWarning: The twython library has not been installed. Some functionality from the twitter package will not be available.\n",
      "  warnings.warn(\"The twython library has not been installed. \"\n"
     ]
    }
   ],
   "source": [
    "# getting sentiment of sentence\n",
    "import nltk\n",
    "import string as st\n",
    "from nltk.sentiment.vader import SentimentIntensityAnalyzer\n",
    "sid = SentimentIntensityAnalyzer()\n",
    "def sentiment(tweets):\n",
    "    # input: list of strings\n",
    "    # output: list of ints\n",
    "    sentiments = []\n",
    "    for tweet in tweets:\n",
    "        tweet = clean(tweet)\n",
    "        score = sid.polarity_scores(tweet)\n",
    "        sentiments.append(score['compound'])\n",
    "    return sentiments"
   ]
  },
  {
   "cell_type": "code",
   "execution_count": 6,
   "metadata": {},
   "outputs": [
    {
     "name": "stderr",
     "output_type": "stream",
     "text": [
      "100%|█████████████████████████████████████████████████████████████████████████| 659775/659775 [17:04<00:00, 643.96it/s]\n"
     ]
    }
   ],
   "source": [
    "sentiments = {}\n",
    "overall = 0\n",
    "for user in tqdm(tweets):\n",
    "    sentiments[user] = sentiment(tweets[user])"
   ]
  },
  {
   "cell_type": "code",
   "execution_count": 12,
   "metadata": {},
   "outputs": [
    {
     "data": {
      "text/plain": [
       "0.15988854418754891"
      ]
     },
     "execution_count": 12,
     "metadata": {},
     "output_type": "execute_result"
    }
   ],
   "source": [
    "s/c"
   ]
  },
  {
   "cell_type": "code",
   "execution_count": 11,
   "metadata": {},
   "outputs": [],
   "source": [
    "s = 0\n",
    "c = 0\n",
    "for i in sentiments:\n",
    "    s += sum(sentiments[i])\n",
    "    c += len(sentiments[i])"
   ]
  },
  {
   "cell_type": "code",
   "execution_count": 23,
   "metadata": {},
   "outputs": [],
   "source": [
    "import csv\n",
    "with open('random_tweet_sentiments.csv', 'w') as csv_file:\n",
    "    writer = csv.writer(csv_file)\n",
    "    writer.writerow(['user','tweets','sentiments'])\n",
    "    for key, value in tweets.items():\n",
    "       writer.writerow([key, value, sentiments[key]])"
   ]
  }
 ],
 "metadata": {
  "kernelspec": {
   "display_name": "Python 3",
   "language": "python",
   "name": "python3"
  },
  "language_info": {
   "codemirror_mode": {
    "name": "ipython",
    "version": 3
   },
   "file_extension": ".py",
   "mimetype": "text/x-python",
   "name": "python",
   "nbconvert_exporter": "python",
   "pygments_lexer": "ipython3",
   "version": "3.7.0"
  }
 },
 "nbformat": 4,
 "nbformat_minor": 2
}
