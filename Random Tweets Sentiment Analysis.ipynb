{
 "cells": [
  {
   "cell_type": "code",
   "execution_count": 123,
   "metadata": {},
   "outputs": [],
   "source": [
    "import pandas as pd\n",
    "from tqdm import tqdm\n",
    "\n",
    "df = pd.read_csv('sentiment140/training.1600000.processed.noemoticon.csv',index_col=None, header=None, encoding='latin-1')"
   ]
  },
  {
   "cell_type": "code",
   "execution_count": 124,
   "metadata": {},
   "outputs": [],
   "source": [
    "g = df.groupby(by = df[4]).groups"
   ]
  },
  {
   "cell_type": "code",
   "execution_count": 128,
   "metadata": {},
   "outputs": [
    {
     "data": {
      "text/html": [
       "<div>\n",
       "<style scoped>\n",
       "    .dataframe tbody tr th:only-of-type {\n",
       "        vertical-align: middle;\n",
       "    }\n",
       "\n",
       "    .dataframe tbody tr th {\n",
       "        vertical-align: top;\n",
       "    }\n",
       "\n",
       "    .dataframe thead th {\n",
       "        text-align: right;\n",
       "    }\n",
       "</style>\n",
       "<table border=\"1\" class=\"dataframe\">\n",
       "  <thead>\n",
       "    <tr style=\"text-align: right;\">\n",
       "      <th></th>\n",
       "      <th>0</th>\n",
       "      <th>1</th>\n",
       "      <th>2</th>\n",
       "      <th>3</th>\n",
       "      <th>4</th>\n",
       "      <th>5</th>\n",
       "    </tr>\n",
       "  </thead>\n",
       "  <tbody>\n",
       "    <tr>\n",
       "      <th>710344</th>\n",
       "      <td>0</td>\n",
       "      <td>2257881753</td>\n",
       "      <td>Sat Jun 20 15:02:40 PDT 2009</td>\n",
       "      <td>NO_QUERY</td>\n",
       "      <td>000catnap000</td>\n",
       "      <td>kinda miss my mom  shouldn't have called her t...</td>\n",
       "    </tr>\n",
       "    <tr>\n",
       "      <th>849111</th>\n",
       "      <td>4</td>\n",
       "      <td>1565014948</td>\n",
       "      <td>Mon Apr 20 05:39:01 PDT 2009</td>\n",
       "      <td>NO_QUERY</td>\n",
       "      <td>000catnap000</td>\n",
       "      <td>@Wumbologist huh uhu...i see dead people xD ab...</td>\n",
       "    </tr>\n",
       "    <tr>\n",
       "      <th>1042668</th>\n",
       "      <td>4</td>\n",
       "      <td>1957229112</td>\n",
       "      <td>Thu May 28 23:53:20 PDT 2009</td>\n",
       "      <td>NO_QUERY</td>\n",
       "      <td>000catnap000</td>\n",
       "      <td>awake since six o'clock... i had two hours sle...</td>\n",
       "    </tr>\n",
       "    <tr>\n",
       "      <th>1177063</th>\n",
       "      <td>4</td>\n",
       "      <td>1981357110</td>\n",
       "      <td>Sun May 31 08:59:07 PDT 2009</td>\n",
       "      <td>NO_QUERY</td>\n",
       "      <td>000catnap000</td>\n",
       "      <td>this is one of the cartoons i used to watch to...</td>\n",
       "    </tr>\n",
       "    <tr>\n",
       "      <th>1422100</th>\n",
       "      <td>4</td>\n",
       "      <td>2058432528</td>\n",
       "      <td>Sat Jun 06 14:55:54 PDT 2009</td>\n",
       "      <td>NO_QUERY</td>\n",
       "      <td>000catnap000</td>\n",
       "      <td>@Wumbologist hmmm...why not</td>\n",
       "    </tr>\n",
       "    <tr>\n",
       "      <th>1425085</th>\n",
       "      <td>4</td>\n",
       "      <td>2058981540</td>\n",
       "      <td>Sat Jun 06 16:00:48 PDT 2009</td>\n",
       "      <td>NO_QUERY</td>\n",
       "      <td>000catnap000</td>\n",
       "      <td>can't get enough of it  http://bit.ly/134sSZ</td>\n",
       "    </tr>\n",
       "  </tbody>\n",
       "</table>\n",
       "</div>"
      ],
      "text/plain": [
       "         0           1                             2         3             4  \\\n",
       "710344   0  2257881753  Sat Jun 20 15:02:40 PDT 2009  NO_QUERY  000catnap000   \n",
       "849111   4  1565014948  Mon Apr 20 05:39:01 PDT 2009  NO_QUERY  000catnap000   \n",
       "1042668  4  1957229112  Thu May 28 23:53:20 PDT 2009  NO_QUERY  000catnap000   \n",
       "1177063  4  1981357110  Sun May 31 08:59:07 PDT 2009  NO_QUERY  000catnap000   \n",
       "1422100  4  2058432528  Sat Jun 06 14:55:54 PDT 2009  NO_QUERY  000catnap000   \n",
       "1425085  4  2058981540  Sat Jun 06 16:00:48 PDT 2009  NO_QUERY  000catnap000   \n",
       "\n",
       "                                                         5  \n",
       "710344   kinda miss my mom  shouldn't have called her t...  \n",
       "849111   @Wumbologist huh uhu...i see dead people xD ab...  \n",
       "1042668  awake since six o'clock... i had two hours sle...  \n",
       "1177063  this is one of the cartoons i used to watch to...  \n",
       "1422100                       @Wumbologist hmmm...why not   \n",
       "1425085       can't get enough of it  http://bit.ly/134sSZ  "
      ]
     },
     "execution_count": 128,
     "metadata": {},
     "output_type": "execute_result"
    }
   ],
   "source": [
    "df.iloc[g['000catnap000']]"
   ]
  },
  {
   "cell_type": "code",
   "execution_count": 3,
   "metadata": {},
   "outputs": [
    {
     "name": "stderr",
     "output_type": "stream",
     "text": [
      "100%|████████████████████████████████████████████████████████████████████████| 659775/659775 [07:24<00:00, 1483.84it/s]\n"
     ]
    }
   ],
   "source": [
    "tweets = {}\n",
    "for user in tqdm(g):\n",
    "    tweets[user] = df.iloc[g[user]][5].values"
   ]
  },
  {
   "cell_type": "code",
   "execution_count": 4,
   "metadata": {},
   "outputs": [],
   "source": [
    "def clean(doc):\n",
    "    # input: string\n",
    "    # output: string\n",
    "    from nltk.stem.wordnet import WordNetLemmatizer\n",
    "    from nltk.corpus import stopwords \n",
    "    import string\n",
    "    lemma = WordNetLemmatizer()\n",
    "    stop = set(stopwords.words('english'))\n",
    "    exclude = set(string.punctuation) \n",
    "    stop_free = \" \".join([i for i in doc.lower().split() if i not in stop])\n",
    "    punc_free = ''.join(ch for ch in stop_free if ch not in exclude or ch == \"!\")\n",
    "    normalized = \" \".join(lemma.lemmatize(word) for word in punc_free.split()).split()\n",
    "    link_free = [word for word in normalized if 'http' not in word]\n",
    "    cleaned = \" \".join(word for word in link_free)\n",
    "    \n",
    "    return cleaned"
   ]
  },
  {
   "cell_type": "code",
   "execution_count": 5,
   "metadata": {},
   "outputs": [
    {
     "name": "stderr",
     "output_type": "stream",
     "text": [
      "C:\\ProgramData\\Anaconda3\\lib\\site-packages\\nltk\\twitter\\__init__.py:20: UserWarning: The twython library has not been installed. Some functionality from the twitter package will not be available.\n",
      "  warnings.warn(\"The twython library has not been installed. \"\n"
     ]
    }
   ],
   "source": [
    "# getting sentiment of sentence\n",
    "import nltk\n",
    "import string as st\n",
    "from nltk.sentiment.vader import SentimentIntensityAnalyzer\n",
    "sid = SentimentIntensityAnalyzer()\n",
    "def sentiment(tweets):\n",
    "    # input: list of strings\n",
    "    # output: list of ints\n",
    "    sentiments = []\n",
    "    for tweet in tweets:\n",
    "        tweet = clean(tweet)\n",
    "        score = sid.polarity_scores(tweet)\n",
    "        sentiments.append(score['compound'])\n",
    "    return sentiments"
   ]
  },
  {
   "cell_type": "code",
   "execution_count": 6,
   "metadata": {},
   "outputs": [
    {
     "name": "stderr",
     "output_type": "stream",
     "text": [
      "100%|█████████████████████████████████████████████████████████████████████████| 659775/659775 [31:34<00:00, 348.23it/s]\n"
     ]
    }
   ],
   "source": [
    "sentiments = {}\n",
    "overall = 0\n",
    "for user in tqdm(tweets):\n",
    "    sentiments[user] = sentiment(tweets[user])"
   ]
  },
  {
   "cell_type": "code",
   "execution_count": 122,
   "metadata": {},
   "outputs": [
    {
     "name": "stderr",
     "output_type": "stream",
     "text": [
      "100%|██████████████████████████████████████████████████████████████████████| 100000/100000 [00:00<00:00, 130380.05it/s]\n"
     ]
    }
   ],
   "source": [
    "import csv\n",
    "with open('random_tweet_sentiments.tsv', 'w',encoding='utf-8') as f:\n",
    "    f.write('user\\ttweets\\tsentiments\\n')\n",
    "    # grab the first 100k to make file smaller (observable file size limit)\n",
    "    for key, value in tqdm(list(tweets.items())[:100000]):\n",
    "        skip_indices = []\n",
    "        f.write(key+'\\t[')\n",
    "        adskfljh = ''\n",
    "        for i,v in enumerate(value):\n",
    "            if ('\\t' not in v):\n",
    "                adskfljh += ('\\\"'+v+'\\\"'+',')\n",
    "            else:\n",
    "                skip_indices.append(i)\n",
    "        if len(adskfljh) > 0 and adskfljh[-1] == ',':\n",
    "            adskfljh = adskfljh[:-1]\n",
    "        f.write(adskfljh)\n",
    "        write_dis=[]\n",
    "        for igiveup in range(len(sentiments[key])):\n",
    "            if igiveup not in skip_indices:\n",
    "                write_dis.append(sentiments[key][igiveup])\n",
    "        f.write(']\\t'+str(write_dis) + '\\n')"
   ]
  }
 ],
 "metadata": {
  "kernelspec": {
   "display_name": "Python 3",
   "language": "python",
   "name": "python3"
  },
  "language_info": {
   "codemirror_mode": {
    "name": "ipython",
    "version": 3
   },
   "file_extension": ".py",
   "mimetype": "text/x-python",
   "name": "python",
   "nbconvert_exporter": "python",
   "pygments_lexer": "ipython3",
   "version": "3.7.0"
  }
 },
 "nbformat": 4,
 "nbformat_minor": 2
}
