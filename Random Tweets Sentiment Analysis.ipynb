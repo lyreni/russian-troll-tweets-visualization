{
 "cells": [
  {
   "cell_type": "code",
   "execution_count": 1,
   "metadata": {},
   "outputs": [],
   "source": [
    "import pandas as pd\n",
    "from tqdm import tqdm\n",
    "\n",
    "df = pd.read_csv('sentiment140/training.1600000.processed.noemoticon.csv',index_col=None, header=None, encoding='latin-1')"
   ]
  },
  {
   "cell_type": "code",
   "execution_count": 2,
   "metadata": {},
   "outputs": [],
   "source": [
    "g = df.groupby(by = df[4]).groups"
   ]
  },
  {
   "cell_type": "code",
   "execution_count": 3,
   "metadata": {},
   "outputs": [
    {
     "name": "stderr",
     "output_type": "stream",
     "text": [
      "100%|████████████████████████████████████████████████████████████████████████| 659775/659775 [07:24<00:00, 1483.84it/s]\n"
     ]
    }
   ],
   "source": [
    "tweets = {}\n",
    "for user in tqdm(g):\n",
    "    tweets[user] = df.iloc[g[user]][5].values"
   ]
  },
  {
   "cell_type": "code",
   "execution_count": 4,
   "metadata": {},
   "outputs": [],
   "source": [
    "def clean(doc):\n",
    "    # input: string\n",
    "    # output: string\n",
    "    from nltk.stem.wordnet import WordNetLemmatizer\n",
    "    from nltk.corpus import stopwords \n",
    "    import string\n",
    "    lemma = WordNetLemmatizer()\n",
    "    stop = set(stopwords.words('english'))\n",
    "    exclude = set(string.punctuation) \n",
    "    stop_free = \" \".join([i for i in doc.lower().split() if i not in stop])\n",
    "    punc_free = ''.join(ch for ch in stop_free if ch not in exclude or ch == \"!\")\n",
    "    normalized = \" \".join(lemma.lemmatize(word) for word in punc_free.split()).split()\n",
    "    link_free = [word for word in normalized if 'http' not in word]\n",
    "    cleaned = \" \".join(word for word in link_free)\n",
    "    \n",
    "    return cleaned"
   ]
  },
  {
   "cell_type": "code",
   "execution_count": 5,
   "metadata": {},
   "outputs": [
    {
     "name": "stderr",
     "output_type": "stream",
     "text": [
      "C:\\ProgramData\\Anaconda3\\lib\\site-packages\\nltk\\twitter\\__init__.py:20: UserWarning: The twython library has not been installed. Some functionality from the twitter package will not be available.\n",
      "  warnings.warn(\"The twython library has not been installed. \"\n"
     ]
    }
   ],
   "source": [
    "# getting sentiment of sentence\n",
    "import nltk\n",
    "import string as st\n",
    "from nltk.sentiment.vader import SentimentIntensityAnalyzer\n",
    "sid = SentimentIntensityAnalyzer()\n",
    "def sentiment(tweets):\n",
    "    # input: list of strings\n",
    "    # output: list of ints\n",
    "    sentiments = []\n",
    "    for tweet in tweets:\n",
    "        tweet = clean(tweet)\n",
    "        score = sid.polarity_scores(tweet)\n",
    "        sentiments.append(score['compound'])\n",
    "    return sentiments"
   ]
  },
  {
   "cell_type": "code",
   "execution_count": 6,
   "metadata": {},
   "outputs": [
    {
     "name": "stderr",
     "output_type": "stream",
     "text": [
      "100%|█████████████████████████████████████████████████████████████████████████| 659775/659775 [31:34<00:00, 348.23it/s]\n"
     ]
    }
   ],
   "source": [
    "sentiments = {}\n",
    "overall = 0\n",
    "for user in tqdm(tweets):\n",
    "    sentiments[user] = sentiment(tweets[user])"
   ]
  },
  {
   "cell_type": "code",
   "execution_count": 113,
   "metadata": {},
   "outputs": [
    {
     "data": {
      "text/plain": [
       "True"
      ]
     },
     "execution_count": 113,
     "metadata": {},
     "output_type": "execute_result"
    }
   ],
   "source": [
    "'\\t' in \"is loving this weeks Loosegroove mix - \twww.spaceinvaderrad\""
   ]
  },
  {
   "cell_type": "code",
   "execution_count": 122,
   "metadata": {},
   "outputs": [
    {
     "name": "stderr",
     "output_type": "stream",
     "text": [
      "100%|██████████████████████████████████████████████████████████████████████| 100000/100000 [00:00<00:00, 130380.05it/s]\n"
     ]
    }
   ],
   "source": [
    "import csv\n",
    "with open('random_tweet_sentiments.tsv', 'w',encoding='utf-8') as f:\n",
    "    f.write('user\\ttweets\\tsentiments\\n')\n",
    "    # grab the first 100k to make file smaller (observable file size limit)\n",
    "    for key, value in tqdm(list(tweets.items())[:100000]):\n",
    "        skip_indices = []\n",
    "        f.write(key+'\\t[')\n",
    "        adskfljh = ''\n",
    "        for i,v in enumerate(value):\n",
    "            if ('\\t' not in v):\n",
    "                adskfljh += ('\\\"'+v+'\\\"'+',')\n",
    "            else:\n",
    "                skip_indices.append(i)\n",
    "        if len(adskfljh) > 0 and adskfljh[-1] == ',':\n",
    "            adskfljh = adskfljh[:-1]\n",
    "        f.write(adskfljh)\n",
    "        write_dis=[]\n",
    "        for igiveup in range(len(sentiments[key])):\n",
    "            if igiveup not in skip_indices:\n",
    "                write_dis.append(sentiments[key][igiveup])\n",
    "        f.write(']\\t'+str(write_dis) + '\\n')"
   ]
  }
 ],
 "metadata": {
  "kernelspec": {
   "display_name": "Python 3",
   "language": "python",
   "name": "python3"
  },
  "language_info": {
   "codemirror_mode": {
    "name": "ipython",
    "version": 3
   },
   "file_extension": ".py",
   "mimetype": "text/x-python",
   "name": "python",
   "nbconvert_exporter": "python",
   "pygments_lexer": "ipython3",
   "version": "3.7.0"
  }
 },
 "nbformat": 4,
 "nbformat_minor": 2
}
