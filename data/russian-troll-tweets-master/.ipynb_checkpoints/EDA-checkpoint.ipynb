{
 "cells": [
  {
   "cell_type": "code",
   "execution_count": 16,
   "metadata": {},
   "outputs": [],
   "source": [
    "import glob\n",
    "import pandas as pd\n",
    "%matplotlib inline  "
   ]
  },
  {
   "cell_type": "code",
   "execution_count": 6,
   "metadata": {},
   "outputs": [
    {
     "name": "stderr",
     "output_type": "stream",
     "text": [
      "C:\\ProgramData\\Anaconda3\\lib\\site-packages\\IPython\\core\\interactiveshell.py:2785: DtypeWarning: Columns (20) have mixed types. Specify dtype option on import or set low_memory=False.\n",
      "  interactivity=interactivity, compiler=compiler, result=result)\n",
      "C:\\ProgramData\\Anaconda3\\lib\\site-packages\\IPython\\core\\interactiveshell.py:2785: DtypeWarning: Columns (10,20) have mixed types. Specify dtype option on import or set low_memory=False.\n",
      "  interactivity=interactivity, compiler=compiler, result=result)\n",
      "C:\\ProgramData\\Anaconda3\\lib\\site-packages\\IPython\\core\\interactiveshell.py:2785: DtypeWarning: Columns (0,15,20) have mixed types. Specify dtype option on import or set low_memory=False.\n",
      "  interactivity=interactivity, compiler=compiler, result=result)\n"
     ]
    }
   ],
   "source": [
    "import os\n",
    "path = os.getcwd() # use your path\n",
    "allFiles = glob.glob(path + \"/*.csv\")\n",
    "frame = pd.DataFrame()\n",
    "list_ = []\n",
    "for file_ in allFiles:\n",
    "    df = pd.read_csv(file_,index_col=None, header=0)\n",
    "    list_.append(df)\n",
    "frame = pd.concat(list_)"
   ]
  },
  {
   "cell_type": "code",
   "execution_count": 70,
   "metadata": {},
   "outputs": [
    {
     "data": {
      "text/plain": [
       "-1"
      ]
     },
     "execution_count": 70,
     "metadata": {},
     "output_type": "execute_result"
    }
   ],
   "source": [
    "\"asdf\".find('#')"
   ]
  },
  {
   "cell_type": "code",
   "execution_count": 66,
   "metadata": {
    "scrolled": true
   },
   "outputs": [
    {
     "name": "stdout",
     "output_type": "stream",
     "text": [
      "author 2843\n",
      "content 2365553\n",
      "region 37\n",
      "language 56\n",
      "following 28224\n",
      "followers 66363\n",
      "account_type 19\n",
      "account_category 8\n"
     ]
    }
   ],
   "source": [
    "interesting = ['author','content','region','language','following','followers','account_type','account_category']\n",
    "for c in interesting:\n",
    "    print(c, len(frame[c].unique()))"
   ]
  },
  {
   "cell_type": "code",
   "execution_count": 12,
   "metadata": {
    "scrolled": true
   },
   "outputs": [
    {
     "name": "stdout",
     "output_type": "stream",
     "text": [
      "external_author_id 2489\n",
      "author 2843\n",
      "content 2365553\n",
      "region 37\n",
      "language 56\n",
      "publish_date 896347\n",
      "harvested_date 905967\n",
      "following 28224\n",
      "followers 66363\n",
      "updates 97696\n",
      "post_type 3\n",
      "account_type 19\n",
      "retweet 2\n",
      "account_category 8\n",
      "new_june_2018 2\n",
      "alt_external_id 2852\n",
      "tweet_id 2944815\n",
      "article_url 2944821\n",
      "tco1_step1 1585644\n",
      "tco2_step1 511618\n",
      "tco3_step1 12535\n"
     ]
    }
   ],
   "source": [
    "for column in frame.columns:\n",
    "    print(column, len(frame[column].unique()))"
   ]
  },
  {
   "cell_type": "code",
   "execution_count": 77,
   "metadata": {},
   "outputs": [
    {
     "data": {
      "text/plain": [
       "NonEnglish      86205\n",
       "RightTroll        266\n",
       "HashtagGamer      241\n",
       "LeftTroll         110\n",
       "NewsFeed           76\n",
       "Commercial         66\n",
       "Unknown            18\n",
       "Fearmonger          1\n",
       "Name: account_category, dtype: int64"
      ]
     },
     "execution_count": 77,
     "metadata": {},
     "output_type": "execute_result"
    }
   ],
   "source": [
    "frame[frame['language']=='German']['account_category'].value_counts()"
   ]
  },
  {
   "cell_type": "code",
   "execution_count": 75,
   "metadata": {},
   "outputs": [
    {
     "data": {
      "text/plain": [
       "array([], dtype=object)"
      ]
     },
     "execution_count": 75,
     "metadata": {},
     "output_type": "execute_result"
    }
   ],
   "source": [
    "frame[frame['tweet_id']==602816368489160704]['content'].values"
   ]
  },
  {
   "cell_type": "code",
   "execution_count": 58,
   "metadata": {
    "scrolled": true
   },
   "outputs": [
    {
     "data": {
      "text/html": [
       "<div>\n",
       "<style scoped>\n",
       "    .dataframe tbody tr th:only-of-type {\n",
       "        vertical-align: middle;\n",
       "    }\n",
       "\n",
       "    .dataframe tbody tr th {\n",
       "        vertical-align: top;\n",
       "    }\n",
       "\n",
       "    .dataframe thead th {\n",
       "        text-align: right;\n",
       "    }\n",
       "</style>\n",
       "<table border=\"1\" class=\"dataframe\">\n",
       "  <thead>\n",
       "    <tr style=\"text-align: right;\">\n",
       "      <th></th>\n",
       "      <th>tweet_id</th>\n",
       "      <th>content</th>\n",
       "    </tr>\n",
       "  </thead>\n",
       "  <tbody>\n",
       "    <tr>\n",
       "      <th>424</th>\n",
       "      <td>670004299326361600</td>\n",
       "      <td>#FoodPoisoning is not a joke! #Walmart #KochFa...</td>\n",
       "    </tr>\n",
       "    <tr>\n",
       "      <th>425</th>\n",
       "      <td>670007925868396544</td>\n",
       "      <td>Thanks God that #turkey i ate few days ago was...</td>\n",
       "    </tr>\n",
       "    <tr>\n",
       "      <th>426</th>\n",
       "      <td>602816095167356928</td>\n",
       "      <td>I hurt easy, I just don't show it. You can hur...</td>\n",
       "    </tr>\n",
       "    <tr>\n",
       "      <th>427</th>\n",
       "      <td>602816007040802816</td>\n",
       "      <td>Kim and kanye wedding http://t.co/6YdR6QlR6p</td>\n",
       "    </tr>\n",
       "    <tr>\n",
       "      <th>428</th>\n",
       "      <td>602815887591215104</td>\n",
       "      <td>who's got the worst make up ever, don't tell m...</td>\n",
       "    </tr>\n",
       "    <tr>\n",
       "      <th>429</th>\n",
       "      <td>602816368489160704</td>\n",
       "      <td>jade doesn`t love her! https://t.co/fEOsiKho7C</td>\n",
       "    </tr>\n",
       "    <tr>\n",
       "      <th>430</th>\n",
       "      <td>602816241649229824</td>\n",
       "      <td>Unreal friendship may turn to real. But real f...</td>\n",
       "    </tr>\n",
       "    <tr>\n",
       "      <th>431</th>\n",
       "      <td>602816288751235072</td>\n",
       "      <td>« The young are permanently in a state resembl...</td>\n",
       "    </tr>\n",
       "    <tr>\n",
       "      <th>432</th>\n",
       "      <td>602816397962534913</td>\n",
       "      <td>The best thing you can do in your life is to p...</td>\n",
       "    </tr>\n",
       "    <tr>\n",
       "      <th>433</th>\n",
       "      <td>602816919058669568</td>\n",
       "      <td>Honey, I'll learn! https://t.co/s7y57LeIC7</td>\n",
       "    </tr>\n",
       "    <tr>\n",
       "      <th>434</th>\n",
       "      <td>602817345707466752</td>\n",
       "      <td>cats giving high fives!!!!! http://t.co/xq262T...</td>\n",
       "    </tr>\n",
       "    <tr>\n",
       "      <th>435</th>\n",
       "      <td>602817326883409920</td>\n",
       "      <td>Home is where my bed is</td>\n",
       "    </tr>\n",
       "    <tr>\n",
       "      <th>436</th>\n",
       "      <td>602817883970936833</td>\n",
       "      <td>When the beat drops just keep swinging it</td>\n",
       "    </tr>\n",
       "    <tr>\n",
       "      <th>437</th>\n",
       "      <td>602817642542534656</td>\n",
       "      <td>She gets on you under your skin like a tattoo,...</td>\n",
       "    </tr>\n",
       "    <tr>\n",
       "      <th>438</th>\n",
       "      <td>602818067039592448</td>\n",
       "      <td>As usual, there is a great woman behind every ...</td>\n",
       "    </tr>\n",
       "    <tr>\n",
       "      <th>439</th>\n",
       "      <td>602818037645881344</td>\n",
       "      <td>Music plays a mind trick, watch me forget abou...</td>\n",
       "    </tr>\n",
       "    <tr>\n",
       "      <th>440</th>\n",
       "      <td>602818290017128449</td>\n",
       "      <td>do u ever look at ur friends like \"im so glad ...</td>\n",
       "    </tr>\n",
       "    <tr>\n",
       "      <th>441</th>\n",
       "      <td>602818492350369792</td>\n",
       "      <td>I consider hitting a girl the most pussy thing...</td>\n",
       "    </tr>\n",
       "    <tr>\n",
       "      <th>442</th>\n",
       "      <td>602818403561144321</td>\n",
       "      <td>When we first met, I had no idea you’d become ...</td>\n",
       "    </tr>\n",
       "    <tr>\n",
       "      <th>443</th>\n",
       "      <td>602818676920692736</td>\n",
       "      <td>what happiness is? Free Wi-Fi!</td>\n",
       "    </tr>\n",
       "    <tr>\n",
       "      <th>444</th>\n",
       "      <td>602818693702156288</td>\n",
       "      <td>Even if my intentions are good, the result is ...</td>\n",
       "    </tr>\n",
       "    <tr>\n",
       "      <th>445</th>\n",
       "      <td>602819059516715009</td>\n",
       "      <td>incredible!!!!! http://t.co/LlTolGrrSM</td>\n",
       "    </tr>\n",
       "    <tr>\n",
       "      <th>446</th>\n",
       "      <td>602819145835548672</td>\n",
       "      <td>Booty http://t.co/s58ufSdrXt</td>\n",
       "    </tr>\n",
       "    <tr>\n",
       "      <th>447</th>\n",
       "      <td>602819223581171712</td>\n",
       "      <td>girls winning</td>\n",
       "    </tr>\n",
       "    <tr>\n",
       "      <th>448</th>\n",
       "      <td>602819563839946752</td>\n",
       "      <td>Why did we give a monopoly of creating money o...</td>\n",
       "    </tr>\n",
       "    <tr>\n",
       "      <th>449</th>\n",
       "      <td>602819804093947904</td>\n",
       "      <td>Despite all the junk food someone still compli...</td>\n",
       "    </tr>\n",
       "    <tr>\n",
       "      <th>450</th>\n",
       "      <td>602819972931428352</td>\n",
       "      <td>Love like you'll never be hurt</td>\n",
       "    </tr>\n",
       "    <tr>\n",
       "      <th>451</th>\n",
       "      <td>602820262745264128</td>\n",
       "      <td>so easy I can do them myself! https://t.co/YxU...</td>\n",
       "    </tr>\n",
       "    <tr>\n",
       "      <th>452</th>\n",
       "      <td>602820233401913344</td>\n",
       "      <td>RT if you're ripping that Hustle gang</td>\n",
       "    </tr>\n",
       "    <tr>\n",
       "      <th>453</th>\n",
       "      <td>602820178875940864</td>\n",
       "      <td>queen and anti-queen http://t.co/bpgaEfxf6a</td>\n",
       "    </tr>\n",
       "    <tr>\n",
       "      <th>...</th>\n",
       "      <td>...</td>\n",
       "      <td>...</td>\n",
       "    </tr>\n",
       "    <tr>\n",
       "      <th>173174</th>\n",
       "      <td>670040848420233216</td>\n",
       "      <td>'@TeephiTerry I'm not sleeping tonight #Turkey...</td>\n",
       "    </tr>\n",
       "    <tr>\n",
       "      <th>173175</th>\n",
       "      <td>670041209503662080</td>\n",
       "      <td>'@AndrewCohenNYC Say what?! #turkey #newyork #...</td>\n",
       "    </tr>\n",
       "    <tr>\n",
       "      <th>173176</th>\n",
       "      <td>670041216063508481</td>\n",
       "      <td>#DogThanking Uhmm is see a Koch's ... the new ...</td>\n",
       "    </tr>\n",
       "    <tr>\n",
       "      <th>173177</th>\n",
       "      <td>670041370137075713</td>\n",
       "      <td>wooow Happy Thanksgiving @UNMC_DrKhan Hell, ma...</td>\n",
       "    </tr>\n",
       "    <tr>\n",
       "      <th>173178</th>\n",
       "      <td>670041779442438144</td>\n",
       "      <td>OMG  Special services ain't working. This is w...</td>\n",
       "    </tr>\n",
       "    <tr>\n",
       "      <th>173179</th>\n",
       "      <td>670041826510942208</td>\n",
       "      <td>wooow  Whut? Poisoned #turkey on Thanksgiving?...</td>\n",
       "    </tr>\n",
       "    <tr>\n",
       "      <th>173180</th>\n",
       "      <td>670041612731420674</td>\n",
       "      <td>wooow Happy Thanksgiving  stop eating turkey #...</td>\n",
       "    </tr>\n",
       "    <tr>\n",
       "      <th>173181</th>\n",
       "      <td>670041764317802498</td>\n",
       "      <td>Happy Thanksgiving @NIHprevents Bought #turkey...</td>\n",
       "    </tr>\n",
       "    <tr>\n",
       "      <th>173182</th>\n",
       "      <td>670042053070430209</td>\n",
       "      <td>poor people #NY #Turkey #FoodPoisoning #NY #Ko...</td>\n",
       "    </tr>\n",
       "    <tr>\n",
       "      <th>173183</th>\n",
       "      <td>670042093511966721</td>\n",
       "      <td>wooow  thats the reason not to buy food in #wa...</td>\n",
       "    </tr>\n",
       "    <tr>\n",
       "      <th>173184</th>\n",
       "      <td>670042078483767296</td>\n",
       "      <td>OMG  Toilet - my friend #Fail #KochFarms https...</td>\n",
       "    </tr>\n",
       "    <tr>\n",
       "      <th>173185</th>\n",
       "      <td>670042166945841152</td>\n",
       "      <td>'@ORDR Could #USDA check the whole #KochFarms?...</td>\n",
       "    </tr>\n",
       "    <tr>\n",
       "      <th>173186</th>\n",
       "      <td>670042267508449281</td>\n",
       "      <td>OMG  thank god no one died ... yet #Turkey #Ko...</td>\n",
       "    </tr>\n",
       "    <tr>\n",
       "      <th>173187</th>\n",
       "      <td>670042364866596864</td>\n",
       "      <td>Happy Thanksgiving @UmbrellaCarnage It’s like ...</td>\n",
       "    </tr>\n",
       "    <tr>\n",
       "      <th>173188</th>\n",
       "      <td>670042680311853056</td>\n",
       "      <td>OMG  Shit happens #KochFarms https://t.co/Hzxz...</td>\n",
       "    </tr>\n",
       "    <tr>\n",
       "      <th>173189</th>\n",
       "      <td>670042620048097280</td>\n",
       "      <td>wooow  Ther’re still some problems with #turke...</td>\n",
       "    </tr>\n",
       "    <tr>\n",
       "      <th>173190</th>\n",
       "      <td>670042761429651457</td>\n",
       "      <td>#DogThanking Very likely I refuse #turkey meat...</td>\n",
       "    </tr>\n",
       "    <tr>\n",
       "      <th>173191</th>\n",
       "      <td>670049247601889280</td>\n",
       "      <td>wooow Happy Thanksgiving  You really are unluc...</td>\n",
       "    </tr>\n",
       "    <tr>\n",
       "      <th>173192</th>\n",
       "      <td>670049291910541312</td>\n",
       "      <td>Now my children hate Xmas! #FoodPoisoning #Koc...</td>\n",
       "    </tr>\n",
       "    <tr>\n",
       "      <th>173193</th>\n",
       "      <td>670049193965154306</td>\n",
       "      <td>'@CDCObesity #Walmarts with poisoned turkey sh...</td>\n",
       "    </tr>\n",
       "    <tr>\n",
       "      <th>173194</th>\n",
       "      <td>670049162218467332</td>\n",
       "      <td>'@CDCObesity #WEALLGONNADIE!!!#Walmart #KochFa...</td>\n",
       "    </tr>\n",
       "    <tr>\n",
       "      <th>173195</th>\n",
       "      <td>670049358335729664</td>\n",
       "      <td>'@DrScottReis Gosh no! #foodpoisoning #KochFar...</td>\n",
       "    </tr>\n",
       "    <tr>\n",
       "      <th>173196</th>\n",
       "      <td>670049536342011905</td>\n",
       "      <td>'@HHChomecare I'm so sad you can't come... hop...</td>\n",
       "    </tr>\n",
       "    <tr>\n",
       "      <th>173197</th>\n",
       "      <td>670050061913468932</td>\n",
       "      <td>wooow  These people deserved it. #vegan #KochF...</td>\n",
       "    </tr>\n",
       "    <tr>\n",
       "      <th>173198</th>\n",
       "      <td>670050051322855424</td>\n",
       "      <td>OMG #ImThankfulFor #PrayforNYC #Fail  #Walmart...</td>\n",
       "    </tr>\n",
       "    <tr>\n",
       "      <th>173199</th>\n",
       "      <td>670049938890342400</td>\n",
       "      <td>They try to make #turkey bigger but they make ...</td>\n",
       "    </tr>\n",
       "    <tr>\n",
       "      <th>173200</th>\n",
       "      <td>670050564726657024</td>\n",
       "      <td>'@DushonNYC1 I know home remedies for food poi...</td>\n",
       "    </tr>\n",
       "    <tr>\n",
       "      <th>173201</th>\n",
       "      <td>670050722264674304</td>\n",
       "      <td>wooow  Thanks for telling the truth! Stupid #K...</td>\n",
       "    </tr>\n",
       "    <tr>\n",
       "      <th>173202</th>\n",
       "      <td>670050666400755712</td>\n",
       "      <td>Happy Thanksgiving  You can't simply buy a #tu...</td>\n",
       "    </tr>\n",
       "    <tr>\n",
       "      <th>173203</th>\n",
       "      <td>600413721899446272</td>\n",
       "      <td>There is no difference how you open that beer,...</td>\n",
       "    </tr>\n",
       "  </tbody>\n",
       "</table>\n",
       "<p>11140 rows × 2 columns</p>\n",
       "</div>"
      ],
      "text/plain": [
       "                  tweet_id                                            content\n",
       "424     670004299326361600  #FoodPoisoning is not a joke! #Walmart #KochFa...\n",
       "425     670007925868396544  Thanks God that #turkey i ate few days ago was...\n",
       "426     602816095167356928  I hurt easy, I just don't show it. You can hur...\n",
       "427     602816007040802816       Kim and kanye wedding http://t.co/6YdR6QlR6p\n",
       "428     602815887591215104  who's got the worst make up ever, don't tell m...\n",
       "429     602816368489160704     jade doesn`t love her! https://t.co/fEOsiKho7C\n",
       "430     602816241649229824  Unreal friendship may turn to real. But real f...\n",
       "431     602816288751235072  « The young are permanently in a state resembl...\n",
       "432     602816397962534913  The best thing you can do in your life is to p...\n",
       "433     602816919058669568         Honey, I'll learn! https://t.co/s7y57LeIC7\n",
       "434     602817345707466752  cats giving high fives!!!!! http://t.co/xq262T...\n",
       "435     602817326883409920                            Home is where my bed is\n",
       "436     602817883970936833          When the beat drops just keep swinging it\n",
       "437     602817642542534656  She gets on you under your skin like a tattoo,...\n",
       "438     602818067039592448  As usual, there is a great woman behind every ...\n",
       "439     602818037645881344  Music plays a mind trick, watch me forget abou...\n",
       "440     602818290017128449  do u ever look at ur friends like \"im so glad ...\n",
       "441     602818492350369792  I consider hitting a girl the most pussy thing...\n",
       "442     602818403561144321  When we first met, I had no idea you’d become ...\n",
       "443     602818676920692736                     what happiness is? Free Wi-Fi!\n",
       "444     602818693702156288  Even if my intentions are good, the result is ...\n",
       "445     602819059516715009             incredible!!!!! http://t.co/LlTolGrrSM\n",
       "446     602819145835548672                       Booty http://t.co/s58ufSdrXt\n",
       "447     602819223581171712                                      girls winning\n",
       "448     602819563839946752  Why did we give a monopoly of creating money o...\n",
       "449     602819804093947904  Despite all the junk food someone still compli...\n",
       "450     602819972931428352                     Love like you'll never be hurt\n",
       "451     602820262745264128  so easy I can do them myself! https://t.co/YxU...\n",
       "452     602820233401913344              RT if you're ripping that Hustle gang\n",
       "453     602820178875940864        queen and anti-queen http://t.co/bpgaEfxf6a\n",
       "...                    ...                                                ...\n",
       "173174  670040848420233216  '@TeephiTerry I'm not sleeping tonight #Turkey...\n",
       "173175  670041209503662080  '@AndrewCohenNYC Say what?! #turkey #newyork #...\n",
       "173176  670041216063508481  #DogThanking Uhmm is see a Koch's ... the new ...\n",
       "173177  670041370137075713  wooow Happy Thanksgiving @UNMC_DrKhan Hell, ma...\n",
       "173178  670041779442438144  OMG  Special services ain't working. This is w...\n",
       "173179  670041826510942208  wooow  Whut? Poisoned #turkey on Thanksgiving?...\n",
       "173180  670041612731420674  wooow Happy Thanksgiving  stop eating turkey #...\n",
       "173181  670041764317802498  Happy Thanksgiving @NIHprevents Bought #turkey...\n",
       "173182  670042053070430209  poor people #NY #Turkey #FoodPoisoning #NY #Ko...\n",
       "173183  670042093511966721  wooow  thats the reason not to buy food in #wa...\n",
       "173184  670042078483767296  OMG  Toilet - my friend #Fail #KochFarms https...\n",
       "173185  670042166945841152  '@ORDR Could #USDA check the whole #KochFarms?...\n",
       "173186  670042267508449281  OMG  thank god no one died ... yet #Turkey #Ko...\n",
       "173187  670042364866596864  Happy Thanksgiving @UmbrellaCarnage It’s like ...\n",
       "173188  670042680311853056  OMG  Shit happens #KochFarms https://t.co/Hzxz...\n",
       "173189  670042620048097280  wooow  Ther’re still some problems with #turke...\n",
       "173190  670042761429651457  #DogThanking Very likely I refuse #turkey meat...\n",
       "173191  670049247601889280  wooow Happy Thanksgiving  You really are unluc...\n",
       "173192  670049291910541312  Now my children hate Xmas! #FoodPoisoning #Koc...\n",
       "173193  670049193965154306  '@CDCObesity #Walmarts with poisoned turkey sh...\n",
       "173194  670049162218467332  '@CDCObesity #WEALLGONNADIE!!!#Walmart #KochFa...\n",
       "173195  670049358335729664  '@DrScottReis Gosh no! #foodpoisoning #KochFar...\n",
       "173196  670049536342011905  '@HHChomecare I'm so sad you can't come... hop...\n",
       "173197  670050061913468932  wooow  These people deserved it. #vegan #KochF...\n",
       "173198  670050051322855424  OMG #ImThankfulFor #PrayforNYC #Fail  #Walmart...\n",
       "173199  670049938890342400  They try to make #turkey bigger but they make ...\n",
       "173200  670050564726657024  '@DushonNYC1 I know home remedies for food poi...\n",
       "173201  670050722264674304  wooow  Thanks for telling the truth! Stupid #K...\n",
       "173202  670050666400755712  Happy Thanksgiving  You can't simply buy a #tu...\n",
       "173203  600413721899446272  There is no difference how you open that beer,...\n",
       "\n",
       "[11140 rows x 2 columns]"
      ]
     },
     "execution_count": 58,
     "metadata": {},
     "output_type": "execute_result"
    }
   ],
   "source": [
    "frame.loc[frame['account_category'] == 'Fearmonger'][['tweet_id','content']]"
   ]
  },
  {
   "cell_type": "code",
   "execution_count": 64,
   "metadata": {
    "scrolled": false
   },
   "outputs": [
    {
     "name": "stdout",
     "output_type": "stream",
     "text": [
      "['Right' 'Russian' 'Koch' 'Italian' 'Left' '?' 'German' 'Spanish'\n",
      " 'Hashtager' 'Arabic' 'local' 'Commercial' 'French' 'Ukranian' 'news'\n",
      " 'Ebola ' 'Portuguese' 'ZAPOROSHIA' 'Uzbek']\n"
     ]
    }
   ],
   "source": [
    "print(frame['account_type'].unique())"
   ]
  },
  {
   "cell_type": "code",
   "execution_count": 27,
   "metadata": {},
   "outputs": [
    {
     "name": "stdout",
     "output_type": "stream",
     "text": [
      "['RightTroll' 'NonEnglish' 'Fearmonger' 'LeftTroll' 'Unknown'\n",
      " 'HashtagGamer' 'NewsFeed' 'Commercial']\n"
     ]
    }
   ],
   "source": [
    "print(frame['account_category'].unique())"
   ]
  },
  {
   "cell_type": "code",
   "execution_count": 29,
   "metadata": {},
   "outputs": [
    {
     "data": {
      "text/plain": [
       "NonEnglish      820803\n",
       "RightTroll      711668\n",
       "NewsFeed        598226\n",
       "LeftTroll       427141\n",
       "HashtagGamer    241786\n",
       "Commercial      121904\n",
       "Unknown          13539\n",
       "Fearmonger       11140\n",
       "Name: account_category, dtype: int64"
      ]
     },
     "execution_count": 29,
     "metadata": {},
     "output_type": "execute_result"
    }
   ],
   "source": [
    "frame['account_category'].value_counts()"
   ]
  },
  {
   "cell_type": "code",
   "execution_count": 72,
   "metadata": {
    "scrolled": true
   },
   "outputs": [
    {
     "data": {
      "text/plain": [
       "United States                2046709\n",
       "Unknown                       561994\n",
       "Azerbaijan                     96333\n",
       "United Arab Emirates           74675\n",
       "Russian Federation             37589\n",
       "Belarus                        27802\n",
       "Germany                        27178\n",
       "United Kingdom                 18048\n",
       "Italy                          13474\n",
       "Iraq                           11117\n",
       "Ukraine                         5765\n",
       "Malaysia                        4932\n",
       "Afghanistan                     4888\n",
       "Israel                          3604\n",
       "France                           942\n",
       "Canada                           608\n",
       "Iran, Islamic Republic of        541\n",
       "Spain                            515\n",
       "Egypt                            232\n",
       "Japan                            108\n",
       "Greece                            81\n",
       "Saudi Arabia                      55\n",
       "Sweden                            52\n",
       "Mexico                            41\n",
       "Samoa                             32\n",
       "India                             22\n",
       "Finland                           20\n",
       "Turkey                             9\n",
       "Czech Republic                     7\n",
       "Latvia                             7\n",
       "Hong Kong                          3\n",
       "Serbia                             2\n",
       "Austria                            1\n",
       "Denmark                            1\n",
       "Estonia                            1\n",
       "Switzerland                        1\n",
       "Name: region, dtype: int64"
      ]
     },
     "execution_count": 72,
     "metadata": {},
     "output_type": "execute_result"
    }
   ],
   "source": [
    "frame['region'].value_counts()"
   ]
  },
  {
   "cell_type": "code",
   "execution_count": 71,
   "metadata": {
    "scrolled": false
   },
   "outputs": [
    {
     "data": {
      "text/plain": [
       "English                2116867\n",
       "Russian                 610943\n",
       "German                   86983\n",
       "Ukrainian                38669\n",
       "Italian                  18063\n",
       "Serbian                   9480\n",
       "Uzbek                     9334\n",
       "Bulgarian                 9236\n",
       "LANGUAGE UNDEFINED        8320\n",
       "Arabic                    7588\n",
       "Macedonian                5178\n",
       "French                    4562\n",
       "Spanish                   3011\n",
       "Norwegian                 2237\n",
       "Farsi (Persian)           1684\n",
       "Romanian                  1629\n",
       "Dutch                     1165\n",
       "Swedish                   1014\n",
       "Vietnamese                 982\n",
       "Estonian                   770\n",
       "Japanese                   764\n",
       "Catalan                    589\n",
       "Finnish                    579\n",
       "Albanian                   572\n",
       "Croatian                   544\n",
       "Icelandic                  498\n",
       "Pushto                     487\n",
       "Portuguese                 463\n",
       "Turkish                    445\n",
       "Lithuanian                 416\n",
       "Polish                     386\n",
       "Somali                     276\n",
       "Slovak                     260\n",
       "Tagalog (Filipino)         238\n",
       "Malay                      236\n",
       "Kurdish                    235\n",
       "Latvian                    219\n",
       "Hungarian                  191\n",
       "Greek                      186\n",
       "Czech                      182\n",
       "Indonesian                 168\n",
       "Korean                     106\n",
       "Danish                      91\n",
       "Hindi                       87\n",
       "Hebrew                      65\n",
       "Slovenian                   60\n",
       "Urdu                        58\n",
       "Thai                        38\n",
       "Simplified Chinese          21\n",
       "Traditional Chinese         11\n",
       "Tamil                        9\n",
       "Gujarati                     6\n",
       "Telugu                       2\n",
       "Bengali                      2\n",
       "Malayalam                    1\n",
       "Kannada                      1\n",
       "Name: language, dtype: int64"
      ]
     },
     "execution_count": 71,
     "metadata": {},
     "output_type": "execute_result"
    }
   ],
   "source": [
    "frame['language'].value_counts()"
   ]
  }
 ],
 "metadata": {
  "kernelspec": {
   "display_name": "Python 3",
   "language": "python",
   "name": "python3"
  },
  "language_info": {
   "codemirror_mode": {
    "name": "ipython",
    "version": 3
   },
   "file_extension": ".py",
   "mimetype": "text/x-python",
   "name": "python",
   "nbconvert_exporter": "python",
   "pygments_lexer": "ipython3",
   "version": "3.7.0"
  }
 },
 "nbformat": 4,
 "nbformat_minor": 2
}
